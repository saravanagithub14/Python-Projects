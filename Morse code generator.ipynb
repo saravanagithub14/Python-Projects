{
 "cells": [
  {
   "cell_type": "code",
   "execution_count": 3,
   "id": "26a2a784",
   "metadata": {},
   "outputs": [],
   "source": [
    "m = {\n",
    "    'A': '.-', 'B': '-...', 'C': '-.-.', 'D': '-..', 'E': '.', 'F': '..-.', 'G': '--.', 'H': '....', 'I': '..', 'J': '.---',\n",
    "    'K': '-.-', 'L': '.-..', 'M': '--', 'N': '-.', 'O': '---', 'P': '.--.', 'Q': '--.-', 'R': '.-.', 'S': '...', 'T': '-',\n",
    "    'U': '..-', 'V': '...-', 'W': '.--', 'X': '-..-', 'Y': '-.--', 'Z': '--..',\n",
    "    \n",
    "    'a': '.-', 'b': '-...', 'c': '-.-.', 'd': '-..', 'e': '.', 'f': '..-.', 'g': '--.', 'h': '....', 'i': '..', 'j': '.---',\n",
    "    'k': '-.-', 'l': '.-..', 'm': '--', 'n': '-.', 'o': '---', 'p': '.--.', 'q': '--.-', 'r': '.-.', 's': '...', 't': '-',\n",
    "    'u': '..-', 'v': '...-', 'w': '.--', 'x': '-..-', 'y': '-.--', 'z': '--..',\n",
    "\n",
    "    '0': '-----', '1': '.----', '2': '..---', '3': '...--', '4': '....-', '5': '.....', '6': '-....', '7': '--...', '8': '---..', '9': '----.',\n",
    "    \n",
    "    '.': '.-.-.-', ',': '--..--', '?': '..--..', \"'\": '.----.', '!': '-.-.--', '/': '-..-.', '(': '-.--.', ')': '-.--.-', '&': '.-...',\n",
    "    ':': '---...', ';': '-.-.-.', '=': '-...-', '+': '.-.-.', '-': '-....-', '_': '..--.-', '\"': '.-..-.', '$': '...-..-', '@': '.--.-.',\n",
    "    ' ': '/'\n",
    "}\n"
   ]
  },
  {
   "cell_type": "code",
   "execution_count": 53,
   "id": "11d83af2",
   "metadata": {},
   "outputs": [],
   "source": [
    "c = {\n",
    "    '.-': 'A', '-...': 'B', '-.-.': 'C', '-..': 'D', '.': 'E', '..-.': 'F',\n",
    "    '--.': 'G', '....': 'H', '..': 'I', '.---': 'J', '-.-': 'K', '.-..': 'L',\n",
    "    '--': 'M', '-.': 'N', '---': 'O', '.--.': 'P', '--.-': 'Q', '.-.': 'R',\n",
    "    '...': 'S', '-': 'T', '..-': 'U', '...-': 'V', '.--': 'W', '-..-': 'X',\n",
    "    '-.--': 'Y', '--..': 'Z',\n",
    "    \n",
    "    '.----': '1', '..---': '2', '...--': '3', '....-': '4', '.....': '5',\n",
    "    '-....': '6', '--...': '7', '---..': '8', '----.': '9', '-----': '0',\n",
    "    \n",
    "    '.-.-.-': '.', '--..--': ',', '..--..': '?', '.----.': \"'\", '-.-.--': '!',\n",
    "    '-..-.': '/', '-.--.': '(', '-.--.-': ')', '.-...': '&', '---...': ':',\n",
    "    '-.-.-.': ';', '-...-': '=', '.-.-.': '+', '-....-': '-', '..--.-': '_',\n",
    "    '.-..-.': '\"', '...-..-': '$', '.--.-.': '@'\n",
    "}\n"
   ]
  },
  {
   "cell_type": "code",
   "execution_count": 41,
   "id": "3b4f64b7",
   "metadata": {},
   "outputs": [],
   "source": [
    "def translate_to_morse(string):\n",
    "    new_string =''\n",
    "    for i in string:\n",
    "        new_string += m[i]+' '\n",
    "    print(new_string)\n",
    "        "
   ]
  },
  {
   "cell_type": "code",
   "execution_count": 51,
   "id": "06e251bf",
   "metadata": {},
   "outputs": [],
   "source": [
    "def translate_to_chr (string):\n",
    "    morse = ''\n",
    "    for i in string:\n",
    "        morse += c[i]\n",
    "    print (morse)"
   ]
  },
  {
   "cell_type": "code",
   "execution_count": 42,
   "id": "8b8924b8",
   "metadata": {},
   "outputs": [
    {
     "name": "stdout",
     "output_type": "stream",
     "text": [
      "... .- .-. .- ...- .- -. .- / .--. . .-. ..- -- .- .-.. / .-. \n"
     ]
    }
   ],
   "source": [
    "translate_to_morse('saravana perumal r')"
   ]
  },
  {
   "cell_type": "code",
   "execution_count": 43,
   "id": "eb62e23f",
   "metadata": {},
   "outputs": [
    {
     "name": "stdout",
     "output_type": "stream",
     "text": [
      "... .- .-. .- ...- .- -. .- / .--. . .-. ..- -- .- .-.. / .-. .-.-.- \n"
     ]
    }
   ],
   "source": [
    "translate_to_morse('SARAVANA PERUMAL R.')"
   ]
  },
  {
   "cell_type": "code",
   "execution_count": 44,
   "id": "cea36e49",
   "metadata": {},
   "outputs": [
    {
     "name": "stdout",
     "output_type": "stream",
     "text": [
      "----. ---.. ----. ..... ---.. ..--- -.... --... --... ..... \n"
     ]
    }
   ],
   "source": [
    "translate_to_morse('9895826775')"
   ]
  },
  {
   "cell_type": "code",
   "execution_count": 54,
   "id": "60e745d2",
   "metadata": {},
   "outputs": [
    {
     "ename": "KeyError",
     "evalue": "' '",
     "output_type": "error",
     "traceback": [
      "\u001b[1;31m---------------------------------------------------------------------------\u001b[0m",
      "\u001b[1;31mKeyError\u001b[0m                                  Traceback (most recent call last)",
      "Cell \u001b[1;32mIn[54], line 1\u001b[0m\n\u001b[1;32m----> 1\u001b[0m translate_to_chr(\u001b[38;5;124m'\u001b[39m\u001b[38;5;124m... .- .-. .- ...- .- -. .- / .--. . .-. ..- -- .- .-.. / .-.\u001b[39m\u001b[38;5;124m'\u001b[39m)\n",
      "Cell \u001b[1;32mIn[51], line 4\u001b[0m, in \u001b[0;36mtranslate_to_chr\u001b[1;34m(string)\u001b[0m\n\u001b[0;32m      2\u001b[0m morse \u001b[38;5;241m=\u001b[39m \u001b[38;5;124m'\u001b[39m\u001b[38;5;124m'\u001b[39m\n\u001b[0;32m      3\u001b[0m \u001b[38;5;28;01mfor\u001b[39;00m i \u001b[38;5;129;01min\u001b[39;00m string:\n\u001b[1;32m----> 4\u001b[0m     morse \u001b[38;5;241m+\u001b[39m\u001b[38;5;241m=\u001b[39m c[i]\n\u001b[0;32m      5\u001b[0m \u001b[38;5;28mprint\u001b[39m (morse)\n",
      "\u001b[1;31mKeyError\u001b[0m: ' '"
     ]
    }
   ],
   "source": [
    "translate_to_chr('... .- .-. .- ...- .- -. .- / .--. . .-. ..- -- .- .-.. / .-.')"
   ]
  },
  {
   "cell_type": "code",
   "execution_count": null,
   "id": "047b1eea",
   "metadata": {},
   "outputs": [],
   "source": []
  }
 ],
 "metadata": {
  "kernelspec": {
   "display_name": "Python 3 (ipykernel)",
   "language": "python",
   "name": "python3"
  },
  "language_info": {
   "codemirror_mode": {
    "name": "ipython",
    "version": 3
   },
   "file_extension": ".py",
   "mimetype": "text/x-python",
   "name": "python",
   "nbconvert_exporter": "python",
   "pygments_lexer": "ipython3",
   "version": "3.11.4"
  }
 },
 "nbformat": 4,
 "nbformat_minor": 5
}
