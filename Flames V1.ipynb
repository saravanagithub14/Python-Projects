{
 "cells": [
  {
   "cell_type": "code",
   "execution_count": 1,
   "id": "d24f08af",
   "metadata": {},
   "outputs": [
    {
     "name": "stdout",
     "output_type": "stream",
     "text": [
      "Welcome to FLAMES\n",
      "name of the first person : jack \n",
      "name of the second person : rose\n",
      "Marriage\n"
     ]
    }
   ],
   "source": [
    "print(\"Welcome to FLAMES\")\n",
    "name_1 = input('name of the first person : ')\n",
    "name_2 = input ('name of the second person : ')\n",
    "flist = list(name_1)\n",
    "slist = list(name_2)\n",
    "flame = []\n",
    "flame_list = [\"F\",\"L\",\"A\",\"M\",\"E\",\"S\"]\n",
    "flame_list2 = flame_list * 10\n",
    "\n",
    "#print(slist)\n",
    "#print(flist)\n",
    "for i  in slist:\n",
    "    if i not in flist:\n",
    "        flame.append(i)\n",
    "        #print (flame)\n",
    "        result = (flame_list2[len(flame)-1])\n",
    "if result == \"F\":\n",
    "    print (\"Friend\")\n",
    "if result == \"L\":\n",
    "    print (\"Love\")\n",
    "if result == \"A\":\n",
    "    print (\"Arranged Marriage\")\n",
    "if result == \"M\":\n",
    "    print (\"Marriage\")\n",
    "if result == \"E\":\n",
    "    print (\"Enemy\")\n",
    "if result == \"S\":\n",
    "    print (\"Sister\")"
   ]
  },
  {
   "cell_type": "code",
   "execution_count": null,
   "id": "9f0b34c6",
   "metadata": {},
   "outputs": [],
   "source": []
  },
  {
   "cell_type": "code",
   "execution_count": null,
   "id": "395efeb5",
   "metadata": {},
   "outputs": [],
   "source": []
  }
 ],
 "metadata": {
  "kernelspec": {
   "display_name": "Python 3 (ipykernel)",
   "language": "python",
   "name": "python3"
  },
  "language_info": {
   "codemirror_mode": {
    "name": "ipython",
    "version": 3
   },
   "file_extension": ".py",
   "mimetype": "text/x-python",
   "name": "python",
   "nbconvert_exporter": "python",
   "pygments_lexer": "ipython3",
   "version": "3.11.4"
  }
 },
 "nbformat": 4,
 "nbformat_minor": 5
}
